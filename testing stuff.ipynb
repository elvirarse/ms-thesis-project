{
 "cells": [
  {
   "cell_type": "code",
   "execution_count": 1,
   "metadata": {},
   "outputs": [
    {
     "name": "stderr",
     "output_type": "stream",
     "text": [
      "/Users/e.akhiyarova/anaconda/lib/python2.7/site-packages/h5py/__init__.py:36: FutureWarning: Conversion of the second argument of issubdtype from `float` to `np.floating` is deprecated. In future, it will be treated as `np.float64 == np.dtype(float).type`.\n",
      "  from ._conv import register_converters as _register_converters\n"
     ]
    }
   ],
   "source": [
    "import numpy as np\n",
    "import numpy.linalg as nlin\n",
    "import tensorflow as tf\n",
    "\n",
    "img = tf.constant(np.random.randn(1, 180, 180, 1), dtype = tf.float32)\n",
    "#conv1 = tf.layers.conv2d(img, filters = 64, kernel_size = [8,8], strides = [1,1], padding = 'SAME')\n",
    "conv1 = tf.extract_image_patches(img, ksizes = [1,8,8,1], strides = [1,1,1,1], rates = [1,1,1,1], padding = 'VALID')"
   ]
  },
  {
   "cell_type": "code",
   "execution_count": 2,
   "metadata": {},
   "outputs": [],
   "source": [
    "pH, pW = conv1.get_shape()[1:3]\n"
   ]
  },
  {
   "cell_type": "code",
   "execution_count": 3,
   "metadata": {},
   "outputs": [],
   "source": [
    "def knn(input, Nbrs = 10):\n",
    "    Ni, pH, pW, K = input.get_shape()\n",
    "    X = tf.reshape(input, [Ni, pH*pW, K])\n",
    "    final_indlist=[]\n",
    "    batchlist = []\n",
    "    for i in range(Ni):\n",
    "        xklist = []\n",
    "        indlist = []\n",
    "        for j in range(pH*pW):\n",
    "           # print(j)\n",
    "            elem = X[i,j]\n",
    "            distance = tf.sqrt(tf.reduce_sum(tf.square(X[i]-elem), reduction_indices = 1))\n",
    "            values, indices = tf.nn.top_k(tf.negative(distance), k=Nbrs, sorted = False)\n",
    "            xklist.append(tf.gather(X[i], indices = indices, axis = 0))\n",
    "            indlist.append(indices)\n",
    "        final_indlist.append(tf.stack(indlist))\n",
    "        batchlist.append(tf.stack(xklist))\n",
    "    return tf.stack(batchlist), tf.stack(final_indlist)\n",
    "\n",
    "def iknn(input, idx,  pH, pW):\n",
    "    Ni, pHpW, Nbrs, K = input.get_shape()\n",
    "    idx_sorted, I = tf.nn.top_k(tf.reshape(idx, [Ni, pHpW*Nbrs]), k=pHpW*Nbrs)\n",
    "    idx_sorted = tf.reverse(idx_sorted, axis = [1])\n",
    "    I = tf.reverse(I, axis = [1])\n",
    "    final_list = []\n",
    "    for im_id in range(Ni):\n",
    "        _,_, n = tf.unique_with_counts(idx_sorted[im_id])\n",
    "        #for i in range(pHpW):\n",
    "        tensor_list = []\n",
    "        k=0\n",
    "        for i in range(pHpW):\n",
    "            indices = I[im_id, k:k+n[i]]\n",
    "            d = tf.gather(tf.reshape(D[im_id], [1, pHpW*Nbrs, K]), indices = indices, axis = 1)\n",
    "            tensor_list.append(tf.reduce_sum(d, axis=1)/tf.cast(n[i], tf.float32))\n",
    "            k += n[i]\n",
    "           \n",
    "        final_list.append(tf.concat(tensor_list, axis = 0))\n",
    "\n",
    "    iD = tf.stack(final_list, axis = 0)\n",
    "    return tf.reshape(iD, [Ni, pH, pW, K])\n",
    "\n",
    "def iknn_v2(input, idx, pH, pW):\n",
    "    Ni, pHpW, Nbrs, K = input.get_shape()\n",
    "    idx_sorted, I = tf.nn.top_k(tf.reshape(idx, [Ni, pHpW*Nbrs]), k=pHpW*Nbrs)\n",
    "    idx_sorted = tf.reverse(idx_sorted, axis = [1])\n",
    "    I = tf.reverse(I, axis = [1])\n",
    "    print(idx_sorted)\n",
    "    print(I)\n",
    "    #nlist = []\n",
    "    tensor_list = []\n",
    "    k=tf.zeros(Ni, dtype = tf.int32)\n",
    "    for i in range(pHpW):\n",
    "        ni = tf.reduce_sum(tf.cast(tf.equal(tf.reshape(idx, [Ni, pHpW*Nbrs]), i), tf.int32), axis = 1 )\n",
    "        indices = I[:, k:k+ni]\n",
    "        d = tf.gather(tf.reshape(D, [Ni, pHpW*Nbrs, K]), indices = indices, axis = 1)\n",
    "        tensor_list.append(tf.reduce_sum(d, axis=1)/tf.cast(ni, tf.float32))\n",
    "        k = k+ni\n",
    "    iD = tf.concat(tensor_list)\n",
    "    "
   ]
  },
  {
   "cell_type": "code",
   "execution_count": 4,
   "metadata": {},
   "outputs": [
    {
     "name": "stdout",
     "output_type": "stream",
     "text": [
      "CPU times: user 8min 20s, sys: 1min 4s, total: 9min 25s\n",
      "Wall time: 9min 33s\n"
     ]
    }
   ],
   "source": [
    "%%time\n",
    "D, idx = knn(conv1, Nbrs=10)\n",
    "\n"
   ]
  },
  {
   "cell_type": "code",
   "execution_count": 9,
   "metadata": {},
   "outputs": [],
   "source": [
    "Ni, pHpW, Nbrs, K = D.get_shape()"
   ]
  },
  {
   "cell_type": "code",
   "execution_count": null,
   "metadata": {},
   "outputs": [],
   "source": [
    "%%time\n",
    "idx_sorted = tf.contrib.framework.sort(tf.reshape(idx, [Ni, pHpW*Nbrs]), axis=-1, direction='ASCENDING', name=None)\n",
    "I = tf.contrib.framework.argsort(tf.reshape(idx, [Ni, pHpW*Nbrs]), axis=-1, direction='ASCENDING', name=None)\n",
    "with tf.Session() as sess:\n",
    "    idx_s=sess.run(idx_sorted)\n",
    "    I_s = sess.run(I)"
   ]
  },
  {
   "cell_type": "code",
   "execution_count": null,
   "metadata": {},
   "outputs": [],
   "source": [
    "%%time\n",
    "idx_sorted1, I1 = tf.nn.top_k(tf.reshape(idx, [Ni, pHpW*Nbrs]), k=pHpW*Nbrs)\n",
    "with tf.Session() as sess:\n",
    "    idx_1=sess.run(idx_sorted1)\n",
    "    I_1 = sess.run(I1)"
   ]
  },
  {
   "cell_type": "code",
   "execution_count": null,
   "metadata": {},
   "outputs": [],
   "source": [
    "%%time\n",
    "iD = iknn(D, idx, pH.value, pW.value)"
   ]
  },
  {
   "cell_type": "code",
   "execution_count": null,
   "metadata": {},
   "outputs": [],
   "source": [
    "with tf.Session() as sess:\n",
    "    print(nlin.norm(sess.run(iD-conv1)))"
   ]
  },
  {
   "cell_type": "code",
   "execution_count": null,
   "metadata": {},
   "outputs": [],
   "source": [
    "nlist = []\n",
    "for i in range(pHpW):\n",
    "    nlist.append(tf.reduce_sum(tf.cast(tf.equal(tf.reshape(idx, [Ni, pHpW*Nbrs]), i), tf.int32), axis = 1 ))\n",
    "\n",
    "n = tf.stack(nlist, axis = 1)\n",
    "res"
   ]
  },
  {
   "cell_type": "code",
   "execution_count": null,
   "metadata": {},
   "outputs": [],
   "source": [
    "y,ind, n_f = tf.unique_with_counts(tf.reshape(idx[1], [pHpW*Nbrs]))\n"
   ]
  },
  {
   "cell_type": "code",
   "execution_count": null,
   "metadata": {},
   "outputs": [],
   "source": [
    "with tf.Session() as sess:\n",
    "    print(sess.run(res)[1])\n",
    "    print(sess.run(y))\n",
    "    print(sess.run(ind))\n",
    "    print(sess.run(n_f))"
   ]
  },
  {
   "cell_type": "code",
   "execution_count": null,
   "metadata": {},
   "outputs": [],
   "source": [
    "import tensorflow as tf\n",
    "\n",
    "#X = tf.constant([6, 3, 3, 3, 0, 1, 3, 6, 7])\n",
    "res = tf.reduce_sum(tf.cast(tf.equal(idx, 0), tf.int32))"
   ]
  },
  {
   "cell_type": "code",
   "execution_count": null,
   "metadata": {},
   "outputs": [],
   "source": [
    "res"
   ]
  },
  {
   "cell_type": "code",
   "execution_count": null,
   "metadata": {},
   "outputs": [],
   "source": [
    "conv1"
   ]
  },
  {
   "cell_type": "code",
   "execution_count": null,
   "metadata": {},
   "outputs": [],
   "source": [
    "%%time\n",
    "iD = iknn(D, idx, 9, 9)"
   ]
  },
  {
   "cell_type": "code",
   "execution_count": null,
   "metadata": {},
   "outputs": [],
   "source": [
    "D.shape"
   ]
  },
  {
   "cell_type": "code",
   "execution_count": null,
   "metadata": {},
   "outputs": [],
   "source": [
    "conv1"
   ]
  },
  {
   "cell_type": "code",
   "execution_count": null,
   "metadata": {},
   "outputs": [],
   "source": [
    "iD"
   ]
  }
 ],
 "metadata": {
  "anaconda-cloud": {},
  "kernelspec": {
   "display_name": "Python [conda root]",
   "language": "python",
   "name": "conda-root-py"
  },
  "language_info": {
   "codemirror_mode": {
    "name": "ipython",
    "version": 2
   },
   "file_extension": ".py",
   "mimetype": "text/x-python",
   "name": "python",
   "nbconvert_exporter": "python",
   "pygments_lexer": "ipython2",
   "version": "2.7.12"
  }
 },
 "nbformat": 4,
 "nbformat_minor": 1
}
